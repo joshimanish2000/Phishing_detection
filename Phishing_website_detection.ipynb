{
 "cells": [
  {
   "cell_type": "markdown",
   "id": "34533898",
   "metadata": {},
   "source": [
    "Phishing website detection using machine learning.\n",
    "Scikit-learn in Python."
   ]
  },
  {
   "cell_type": "markdown",
   "id": "6a0e8168",
   "metadata": {},
   "source": [
    "Dataset: From UCI, developed by Mohammad et al.\n",
    "Link: https://archive.ics.uci.edu/ml/machine-learning-databases/00327/"
   ]
  },
  {
   "cell_type": "markdown",
   "id": "960fcf6e",
   "metadata": {},
   "source": [
    "The dataset comes in an 'arff' format, which is not the most convenient format to use with scikit-learn. \n",
    "Converting to the csv format using an online tool is simple. Both csv and arff files are available in the repo."
   ]
  },
  {
   "cell_type": "code",
   "execution_count": 1,
   "id": "931b2ac9",
   "metadata": {},
   "outputs": [],
   "source": [
    "import pandas as pd\n",
    "import numpy as np"
   ]
  },
  {
   "cell_type": "markdown",
   "id": "1937b405",
   "metadata": {},
   "source": [
    "Make a dataframe from the csv file"
   ]
  },
  {
   "cell_type": "code",
   "execution_count": 2,
   "id": "b9cb62cc",
   "metadata": {},
   "outputs": [],
   "source": [
    "df = pd.read_csv(\"training_dataset.csv\")"
   ]
  },
  {
   "cell_type": "markdown",
   "id": "9c742b80",
   "metadata": {},
   "source": [
    "A look at the dataset."
   ]
  },
  {
   "cell_type": "code",
   "execution_count": 3,
   "id": "4da7c346",
   "metadata": {},
   "outputs": [
    {
     "data": {
      "text/html": [
       "<div>\n",
       "<style scoped>\n",
       "    .dataframe tbody tr th:only-of-type {\n",
       "        vertical-align: middle;\n",
       "    }\n",
       "\n",
       "    .dataframe tbody tr th {\n",
       "        vertical-align: top;\n",
       "    }\n",
       "\n",
       "    .dataframe thead th {\n",
       "        text-align: right;\n",
       "    }\n",
       "</style>\n",
       "<table border=\"1\" class=\"dataframe\">\n",
       "  <thead>\n",
       "    <tr style=\"text-align: right;\">\n",
       "      <th></th>\n",
       "      <th>id</th>\n",
       "      <th>having_IP_Address</th>\n",
       "      <th>URL_Length</th>\n",
       "      <th>Shortining_Service</th>\n",
       "      <th>having_At_Symbol</th>\n",
       "      <th>double_slash_redirecting</th>\n",
       "      <th>Prefix_Suffix</th>\n",
       "      <th>having_Sub_Domain</th>\n",
       "      <th>SSLfinal_State</th>\n",
       "      <th>Domain_registeration_length</th>\n",
       "      <th>...</th>\n",
       "      <th>popUpWidnow</th>\n",
       "      <th>Iframe</th>\n",
       "      <th>age_of_domain</th>\n",
       "      <th>DNSRecord</th>\n",
       "      <th>web_traffic</th>\n",
       "      <th>Page_Rank</th>\n",
       "      <th>Google_Index</th>\n",
       "      <th>Links_pointing_to_page</th>\n",
       "      <th>Statistical_report</th>\n",
       "      <th>Result</th>\n",
       "    </tr>\n",
       "  </thead>\n",
       "  <tbody>\n",
       "    <tr>\n",
       "      <th>0</th>\n",
       "      <td>1</td>\n",
       "      <td>-1</td>\n",
       "      <td>1</td>\n",
       "      <td>1</td>\n",
       "      <td>1</td>\n",
       "      <td>-1</td>\n",
       "      <td>-1</td>\n",
       "      <td>-1</td>\n",
       "      <td>-1</td>\n",
       "      <td>-1</td>\n",
       "      <td>...</td>\n",
       "      <td>1</td>\n",
       "      <td>1</td>\n",
       "      <td>-1</td>\n",
       "      <td>-1</td>\n",
       "      <td>-1</td>\n",
       "      <td>-1</td>\n",
       "      <td>1</td>\n",
       "      <td>1</td>\n",
       "      <td>-1</td>\n",
       "      <td>-1</td>\n",
       "    </tr>\n",
       "    <tr>\n",
       "      <th>1</th>\n",
       "      <td>2</td>\n",
       "      <td>1</td>\n",
       "      <td>1</td>\n",
       "      <td>1</td>\n",
       "      <td>1</td>\n",
       "      <td>1</td>\n",
       "      <td>-1</td>\n",
       "      <td>0</td>\n",
       "      <td>1</td>\n",
       "      <td>-1</td>\n",
       "      <td>...</td>\n",
       "      <td>1</td>\n",
       "      <td>1</td>\n",
       "      <td>-1</td>\n",
       "      <td>-1</td>\n",
       "      <td>0</td>\n",
       "      <td>-1</td>\n",
       "      <td>1</td>\n",
       "      <td>1</td>\n",
       "      <td>1</td>\n",
       "      <td>-1</td>\n",
       "    </tr>\n",
       "    <tr>\n",
       "      <th>2</th>\n",
       "      <td>3</td>\n",
       "      <td>1</td>\n",
       "      <td>0</td>\n",
       "      <td>1</td>\n",
       "      <td>1</td>\n",
       "      <td>1</td>\n",
       "      <td>-1</td>\n",
       "      <td>-1</td>\n",
       "      <td>-1</td>\n",
       "      <td>-1</td>\n",
       "      <td>...</td>\n",
       "      <td>1</td>\n",
       "      <td>1</td>\n",
       "      <td>1</td>\n",
       "      <td>-1</td>\n",
       "      <td>1</td>\n",
       "      <td>-1</td>\n",
       "      <td>1</td>\n",
       "      <td>0</td>\n",
       "      <td>-1</td>\n",
       "      <td>-1</td>\n",
       "    </tr>\n",
       "    <tr>\n",
       "      <th>3</th>\n",
       "      <td>4</td>\n",
       "      <td>1</td>\n",
       "      <td>0</td>\n",
       "      <td>1</td>\n",
       "      <td>1</td>\n",
       "      <td>1</td>\n",
       "      <td>-1</td>\n",
       "      <td>-1</td>\n",
       "      <td>-1</td>\n",
       "      <td>1</td>\n",
       "      <td>...</td>\n",
       "      <td>1</td>\n",
       "      <td>1</td>\n",
       "      <td>-1</td>\n",
       "      <td>-1</td>\n",
       "      <td>1</td>\n",
       "      <td>-1</td>\n",
       "      <td>1</td>\n",
       "      <td>-1</td>\n",
       "      <td>1</td>\n",
       "      <td>-1</td>\n",
       "    </tr>\n",
       "    <tr>\n",
       "      <th>4</th>\n",
       "      <td>5</td>\n",
       "      <td>1</td>\n",
       "      <td>0</td>\n",
       "      <td>-1</td>\n",
       "      <td>1</td>\n",
       "      <td>1</td>\n",
       "      <td>-1</td>\n",
       "      <td>1</td>\n",
       "      <td>1</td>\n",
       "      <td>-1</td>\n",
       "      <td>...</td>\n",
       "      <td>-1</td>\n",
       "      <td>1</td>\n",
       "      <td>-1</td>\n",
       "      <td>-1</td>\n",
       "      <td>0</td>\n",
       "      <td>-1</td>\n",
       "      <td>1</td>\n",
       "      <td>1</td>\n",
       "      <td>1</td>\n",
       "      <td>1</td>\n",
       "    </tr>\n",
       "    <tr>\n",
       "      <th>...</th>\n",
       "      <td>...</td>\n",
       "      <td>...</td>\n",
       "      <td>...</td>\n",
       "      <td>...</td>\n",
       "      <td>...</td>\n",
       "      <td>...</td>\n",
       "      <td>...</td>\n",
       "      <td>...</td>\n",
       "      <td>...</td>\n",
       "      <td>...</td>\n",
       "      <td>...</td>\n",
       "      <td>...</td>\n",
       "      <td>...</td>\n",
       "      <td>...</td>\n",
       "      <td>...</td>\n",
       "      <td>...</td>\n",
       "      <td>...</td>\n",
       "      <td>...</td>\n",
       "      <td>...</td>\n",
       "      <td>...</td>\n",
       "      <td>...</td>\n",
       "    </tr>\n",
       "    <tr>\n",
       "      <th>11050</th>\n",
       "      <td>11051</td>\n",
       "      <td>1</td>\n",
       "      <td>-1</td>\n",
       "      <td>1</td>\n",
       "      <td>-1</td>\n",
       "      <td>1</td>\n",
       "      <td>1</td>\n",
       "      <td>1</td>\n",
       "      <td>1</td>\n",
       "      <td>-1</td>\n",
       "      <td>...</td>\n",
       "      <td>-1</td>\n",
       "      <td>-1</td>\n",
       "      <td>1</td>\n",
       "      <td>1</td>\n",
       "      <td>-1</td>\n",
       "      <td>-1</td>\n",
       "      <td>1</td>\n",
       "      <td>1</td>\n",
       "      <td>1</td>\n",
       "      <td>1</td>\n",
       "    </tr>\n",
       "    <tr>\n",
       "      <th>11051</th>\n",
       "      <td>11052</td>\n",
       "      <td>-1</td>\n",
       "      <td>1</td>\n",
       "      <td>1</td>\n",
       "      <td>-1</td>\n",
       "      <td>-1</td>\n",
       "      <td>-1</td>\n",
       "      <td>1</td>\n",
       "      <td>-1</td>\n",
       "      <td>-1</td>\n",
       "      <td>...</td>\n",
       "      <td>-1</td>\n",
       "      <td>1</td>\n",
       "      <td>1</td>\n",
       "      <td>1</td>\n",
       "      <td>1</td>\n",
       "      <td>1</td>\n",
       "      <td>1</td>\n",
       "      <td>-1</td>\n",
       "      <td>1</td>\n",
       "      <td>-1</td>\n",
       "    </tr>\n",
       "    <tr>\n",
       "      <th>11052</th>\n",
       "      <td>11053</td>\n",
       "      <td>1</td>\n",
       "      <td>-1</td>\n",
       "      <td>1</td>\n",
       "      <td>1</td>\n",
       "      <td>1</td>\n",
       "      <td>-1</td>\n",
       "      <td>1</td>\n",
       "      <td>-1</td>\n",
       "      <td>-1</td>\n",
       "      <td>...</td>\n",
       "      <td>1</td>\n",
       "      <td>1</td>\n",
       "      <td>1</td>\n",
       "      <td>1</td>\n",
       "      <td>1</td>\n",
       "      <td>-1</td>\n",
       "      <td>1</td>\n",
       "      <td>0</td>\n",
       "      <td>1</td>\n",
       "      <td>-1</td>\n",
       "    </tr>\n",
       "    <tr>\n",
       "      <th>11053</th>\n",
       "      <td>11054</td>\n",
       "      <td>-1</td>\n",
       "      <td>-1</td>\n",
       "      <td>1</td>\n",
       "      <td>1</td>\n",
       "      <td>1</td>\n",
       "      <td>-1</td>\n",
       "      <td>-1</td>\n",
       "      <td>-1</td>\n",
       "      <td>1</td>\n",
       "      <td>...</td>\n",
       "      <td>-1</td>\n",
       "      <td>1</td>\n",
       "      <td>1</td>\n",
       "      <td>1</td>\n",
       "      <td>1</td>\n",
       "      <td>-1</td>\n",
       "      <td>1</td>\n",
       "      <td>1</td>\n",
       "      <td>1</td>\n",
       "      <td>-1</td>\n",
       "    </tr>\n",
       "    <tr>\n",
       "      <th>11054</th>\n",
       "      <td>11055</td>\n",
       "      <td>-1</td>\n",
       "      <td>-1</td>\n",
       "      <td>1</td>\n",
       "      <td>1</td>\n",
       "      <td>1</td>\n",
       "      <td>-1</td>\n",
       "      <td>-1</td>\n",
       "      <td>-1</td>\n",
       "      <td>1</td>\n",
       "      <td>...</td>\n",
       "      <td>1</td>\n",
       "      <td>1</td>\n",
       "      <td>-1</td>\n",
       "      <td>1</td>\n",
       "      <td>-1</td>\n",
       "      <td>-1</td>\n",
       "      <td>-1</td>\n",
       "      <td>1</td>\n",
       "      <td>-1</td>\n",
       "      <td>-1</td>\n",
       "    </tr>\n",
       "  </tbody>\n",
       "</table>\n",
       "<p>11055 rows × 32 columns</p>\n",
       "</div>"
      ],
      "text/plain": [
       "          id  having_IP_Address  URL_Length  Shortining_Service  \\\n",
       "0          1                 -1           1                   1   \n",
       "1          2                  1           1                   1   \n",
       "2          3                  1           0                   1   \n",
       "3          4                  1           0                   1   \n",
       "4          5                  1           0                  -1   \n",
       "...      ...                ...         ...                 ...   \n",
       "11050  11051                  1          -1                   1   \n",
       "11051  11052                 -1           1                   1   \n",
       "11052  11053                  1          -1                   1   \n",
       "11053  11054                 -1          -1                   1   \n",
       "11054  11055                 -1          -1                   1   \n",
       "\n",
       "       having_At_Symbol  double_slash_redirecting  Prefix_Suffix  \\\n",
       "0                     1                        -1             -1   \n",
       "1                     1                         1             -1   \n",
       "2                     1                         1             -1   \n",
       "3                     1                         1             -1   \n",
       "4                     1                         1             -1   \n",
       "...                 ...                       ...            ...   \n",
       "11050                -1                         1              1   \n",
       "11051                -1                        -1             -1   \n",
       "11052                 1                         1             -1   \n",
       "11053                 1                         1             -1   \n",
       "11054                 1                         1             -1   \n",
       "\n",
       "       having_Sub_Domain  SSLfinal_State  Domain_registeration_length  ...  \\\n",
       "0                     -1              -1                           -1  ...   \n",
       "1                      0               1                           -1  ...   \n",
       "2                     -1              -1                           -1  ...   \n",
       "3                     -1              -1                            1  ...   \n",
       "4                      1               1                           -1  ...   \n",
       "...                  ...             ...                          ...  ...   \n",
       "11050                  1               1                           -1  ...   \n",
       "11051                  1              -1                           -1  ...   \n",
       "11052                  1              -1                           -1  ...   \n",
       "11053                 -1              -1                            1  ...   \n",
       "11054                 -1              -1                            1  ...   \n",
       "\n",
       "       popUpWidnow  Iframe  age_of_domain  DNSRecord  web_traffic  Page_Rank  \\\n",
       "0                1       1             -1         -1           -1         -1   \n",
       "1                1       1             -1         -1            0         -1   \n",
       "2                1       1              1         -1            1         -1   \n",
       "3                1       1             -1         -1            1         -1   \n",
       "4               -1       1             -1         -1            0         -1   \n",
       "...            ...     ...            ...        ...          ...        ...   \n",
       "11050           -1      -1              1          1           -1         -1   \n",
       "11051           -1       1              1          1            1          1   \n",
       "11052            1       1              1          1            1         -1   \n",
       "11053           -1       1              1          1            1         -1   \n",
       "11054            1       1             -1          1           -1         -1   \n",
       "\n",
       "       Google_Index  Links_pointing_to_page  Statistical_report  Result  \n",
       "0                 1                       1                  -1      -1  \n",
       "1                 1                       1                   1      -1  \n",
       "2                 1                       0                  -1      -1  \n",
       "3                 1                      -1                   1      -1  \n",
       "4                 1                       1                   1       1  \n",
       "...             ...                     ...                 ...     ...  \n",
       "11050             1                       1                   1       1  \n",
       "11051             1                      -1                   1      -1  \n",
       "11052             1                       0                   1      -1  \n",
       "11053             1                       1                   1      -1  \n",
       "11054            -1                       1                  -1      -1  \n",
       "\n",
       "[11055 rows x 32 columns]"
      ]
     },
     "execution_count": 3,
     "metadata": {},
     "output_type": "execute_result"
    }
   ],
   "source": [
    "df"
   ]
  },
  {
   "cell_type": "markdown",
   "id": "403d5ab1",
   "metadata": {},
   "source": [
    "Extract results."
   ]
  },
  {
   "cell_type": "code",
   "execution_count": 5,
   "id": "4c1d05c9",
   "metadata": {},
   "outputs": [
    {
     "data": {
      "text/plain": [
       "(11055,)"
      ]
     },
     "execution_count": 5,
     "metadata": {},
     "output_type": "execute_result"
    }
   ],
   "source": [
    "y = df[\"Result\"]\n",
    "#convert it into a numpy array\n",
    "y = np.array(y)\n",
    "#dimensions of y\n",
    "y.shape"
   ]
  },
  {
   "cell_type": "markdown",
   "id": "485e1512",
   "metadata": {},
   "source": [
    "Extract feature names."
   ]
  },
  {
   "cell_type": "code",
   "execution_count": 22,
   "id": "6cae38c5",
   "metadata": {},
   "outputs": [
    {
     "data": {
      "text/plain": [
       "'Result'"
      ]
     },
     "execution_count": 22,
     "metadata": {},
     "output_type": "execute_result"
    }
   ],
   "source": [
    "feature_list = list(df)\n",
    "feature_list.pop(0)  #to remove the unneccessary id column\n",
    "feature_list.pop()   #to remove the result column"
   ]
  },
  {
   "cell_type": "code",
   "execution_count": 23,
   "id": "8244a251",
   "metadata": {},
   "outputs": [
    {
     "name": "stdout",
     "output_type": "stream",
     "text": [
      "['having_IP_Address', 'URL_Length', 'Shortining_Service', 'having_At_Symbol', 'double_slash_redirecting', 'Prefix_Suffix', 'having_Sub_Domain', 'SSLfinal_State', 'Domain_registeration_length', 'Favicon', 'port', 'HTTPS_token', 'Request_URL', 'URL_of_Anchor', 'Links_in_tags', 'SFH', 'Submitting_to_email', 'Abnormal_URL', 'Redirect', 'on_mouseover', 'RightClick', 'popUpWidnow', 'Iframe', 'age_of_domain', 'DNSRecord', 'web_traffic', 'Page_Rank', 'Google_Index', 'Links_pointing_to_page', 'Statistical_report']\n"
     ]
    }
   ],
   "source": [
    "print(feature_list)"
   ]
  },
  {
   "cell_type": "markdown",
   "id": "8316b110",
   "metadata": {},
   "source": [
    "Extract observations (without result)."
   ]
  },
  {
   "cell_type": "code",
   "execution_count": 24,
   "id": "a7f23bc6",
   "metadata": {},
   "outputs": [
    {
     "name": "stdout",
     "output_type": "stream",
     "text": [
      "(11055, 30)\n"
     ]
    }
   ],
   "source": [
    "#capital 'X' to denote a matrix\n",
    "X = df[feature_list]\n",
    "#convert into a numpy array\n",
    "X = np.array(X)\n",
    "print(X.shape)"
   ]
  },
  {
   "cell_type": "markdown",
   "id": "8091ebb8",
   "metadata": {},
   "source": [
    "Split the dataset into training and test examples."
   ]
  },
  {
   "cell_type": "code",
   "execution_count": 25,
   "id": "2e4ce57c",
   "metadata": {},
   "outputs": [],
   "source": [
    "from sklearn.model_selection import train_test_split\n",
    "X_train, X_test, y_train, y_test = train_test_split(X,y,random_state=42)  #random state specified to be able to reproduce this particular split of the dataset."
   ]
  },
  {
   "cell_type": "markdown",
   "id": "1fbe32b2",
   "metadata": {},
   "source": [
    "Training a logistic regression model (since this a classification problem)."
   ]
  },
  {
   "cell_type": "code",
   "execution_count": 26,
   "id": "2eadd1e4",
   "metadata": {},
   "outputs": [
    {
     "data": {
      "text/plain": [
       "LogisticRegression()"
      ]
     },
     "execution_count": 26,
     "metadata": {},
     "output_type": "execute_result"
    }
   ],
   "source": [
    "from sklearn.linear_model import LogisticRegression\n",
    "logreg = LogisticRegression()\n",
    "logreg.fit(X_train,y_train)"
   ]
  },
  {
   "cell_type": "markdown",
   "id": "c269937c",
   "metadata": {},
   "source": [
    "Checking the performance with default value of C."
   ]
  },
  {
   "cell_type": "code",
   "execution_count": 28,
   "id": "c8ea628c",
   "metadata": {},
   "outputs": [
    {
     "name": "stdout",
     "output_type": "stream",
     "text": [
      "Training set accuracy: 0.931\n",
      "Test set accuracy: 0.922\n"
     ]
    }
   ],
   "source": [
    "print(\"Training set accuracy: {:.3f}\".format(logreg.score(X_train,y_train)))\n",
    "print(\"Test set accuracy: {:.3f}\".format(logreg.score(X_test,y_test)))"
   ]
  },
  {
   "cell_type": "markdown",
   "id": "59445bcf",
   "metadata": {},
   "source": [
    "The accuracy is not great, and training and test accuracy are close. Probably a case of underfitting (too simple model). To decrease underfitting, parameter C needs to be increased."
   ]
  },
  {
   "cell_type": "code",
   "execution_count": 36,
   "id": "aec7498b",
   "metadata": {},
   "outputs": [
    {
     "name": "stdout",
     "output_type": "stream",
     "text": [
      "Training set accuracy: 0.931\n",
      "Test set accuracy: 0.922\n"
     ]
    }
   ],
   "source": [
    "logreg100 = LogisticRegression(C=100)\n",
    "logreg100.fit(X_train,y_train)\n",
    "print(\"Training set accuracy: {:.3f}\".format(logreg100.score(X_train,y_train)))\n",
    "print(\"Test set accuracy: {:.3f}\".format(logreg100.score(X_test,y_test)))"
   ]
  },
  {
   "cell_type": "markdown",
   "id": "7fa7a3bf",
   "metadata": {},
   "source": [
    "Looks like this is the best we can get from logistic regression. Try random forest next."
   ]
  },
  {
   "cell_type": "markdown",
   "id": "ba60c42d",
   "metadata": {},
   "source": [
    "Before that, let's look at the feature weights computed by the above logistic regression models. Higher value of C corresponds to less regularization (less general model, model tries to fit the training set best). Less regularization means some features are given too much importance while some might not be considered at all."
   ]
  },
  {
   "cell_type": "code",
   "execution_count": 49,
   "id": "3ce64530",
   "metadata": {},
   "outputs": [
    {
     "data": {
      "text/plain": [
       "(-5.0, 5.0)"
      ]
     },
     "execution_count": 49,
     "metadata": {},
     "output_type": "execute_result"
    },
    {
     "data": {
      "image/png": "[encoded data removed]",
      "text/plain": [
       "<Figure size 432x288 with 1 Axes>"
      ]
     },
     "metadata": {
      "needs_background": "light"
     },
     "output_type": "display_data"
    }
   ],
   "source": [
    "import matplotlib.pyplot as plt\n",
    "plt.plot(logreg.coef_.T,'og',label=\"C=1\")   #for the first model (with default value of C)\n",
    "plt.xticks(range(len(feature_list)),feature_list,rotation=90)\n",
    "plt.ylim(-5,5)"
   ]
  },
  {
   "cell_type": "code",
   "execution_count": 52,
   "id": "47f69200",
   "metadata": {},
   "outputs": [
    {
     "data": {
      "text/plain": [
       "(-10.0, 10.0)"
      ]
     },
     "execution_count": 52,
     "metadata": {},
     "output_type": "execute_result"
    },
    {
     "data": {
      "image/png": "[encoded data removed]",
      "text/plain": [
       "<Figure size 432x288 with 1 Axes>"
      ]
     },
     "metadata": {
      "needs_background": "light"
     },
     "output_type": "display_data"
    }
   ],
   "source": [
    "plt.plot(logreg100.coef_.T,'^r',label=\"C=100\")   #for the second model (less regularization)\n",
    "plt.xticks(range(len(feature_list)),feature_list,rotation=90)\n",
    "plt.ylim(-10,10)"
   ]
  },
  {
   "cell_type": "markdown",
   "id": "d9d07371",
   "metadata": {},
   "source": [
    "Not very significant, but some features in the second case have higher weight than in the first case (prefix_suffix). Take a look at the case below when regularization is high."
   ]
  },
  {
   "cell_type": "code",
   "execution_count": 55,
   "id": "cc069e9d",
   "metadata": {},
   "outputs": [
    {
     "data": {
      "text/plain": [
       "(-5.0, 5.0)"
      ]
     },
     "execution_count": 55,
     "metadata": {},
     "output_type": "execute_result"
    },
    {
     "data": {
      "image/png": "[encoded data removed]",
      "text/plain": [
       "<Figure size 432x288 with 1 Axes>"
      ]
     },
     "metadata": {
      "needs_background": "light"
     },
     "output_type": "display_data"
    }
   ],
   "source": [
    "logreg001= LogisticRegression(C=0.001)  #high regularization (most feature weights (importances) should be close to zero)\n",
    "logreg001.fit(X_train,y_train)\n",
    "plt.plot(logreg001.coef_.T,'vb',label=\"C=0.001\")\n",
    "plt.xticks(range(len(feature_list)),feature_list,rotation=90)\n",
    "plt.ylim(-5,5)"
   ]
  },
  {
   "cell_type": "markdown",
   "id": "8635d158",
   "metadata": {},
   "source": [
    "Let's move on to the random forest now."
   ]
  },
  {
   "cell_type": "code",
   "execution_count": 56,
   "id": "a7ed47e5",
   "metadata": {},
   "outputs": [
    {
     "data": {
      "text/plain": [
       "RandomForestClassifier()"
      ]
     },
     "execution_count": 56,
     "metadata": {},
     "output_type": "execute_result"
    }
   ],
   "source": [
    "from sklearn.ensemble import RandomForestClassifier\n",
    "forest = RandomForestClassifier()\n",
    "forest.fit(X_train,y_train)"
   ]
  },
  {
   "cell_type": "code",
   "execution_count": 57,
   "id": "e5a0e9e0",
   "metadata": {},
   "outputs": [
    {
     "name": "stdout",
     "output_type": "stream",
     "text": [
      "Training set accuracy: 0.991\n",
      "Test set accuracy: 0.966\n"
     ]
    }
   ],
   "source": [
    "print(\"Training set accuracy: {:.3f}\".format(forest.score(X_train,y_train)))\n",
    "print(\"Test set accuracy: {:.3f}\".format(forest.score(X_test,y_test)))"
   ]
  },
  {
   "cell_type": "markdown",
   "id": "1bd293ad",
   "metadata": {},
   "source": [
    "With 99% training accuracy, the model is too complex and is overfitting. To reduce overfitting, we can either limit the depth of trees or the features that each node can choose from. Try limiting depth."
   ]
  },
  {
   "cell_type": "code",
   "execution_count": 71,
   "id": "815f338d",
   "metadata": {},
   "outputs": [
    {
     "name": "stdout",
     "output_type": "stream",
     "text": [
      "Training set accuracy with limited depth: 0.986\n",
      "Test set accuracy with limited depth: 0.967\n"
     ]
    }
   ],
   "source": [
    "forest15 = RandomForestClassifier(max_depth=15)\n",
    "forest15.fit(X_train,y_train)\n",
    "print(\"Training set accuracy with limited depth: {:.3f}\".format(forest15.score(X_train,y_train)))\n",
    "print(\"Test set accuracy with limited depth: {:.3f}\".format(forest15.score(X_test,y_test)))"
   ]
  },
  {
   "cell_type": "markdown",
   "id": "55642251",
   "metadata": {},
   "source": [
    "The model is less complex with almost identical test accuracy. Random forest is better than logistic regression at predicting which sites are phishing and which are not for our particular dataset."
   ]
  },
  {
   "cell_type": "markdown",
   "id": "6cb60108",
   "metadata": {},
   "source": [
    "Let's try SVM next."
   ]
  },
  {
   "cell_type": "code",
   "execution_count": 65,
   "id": "304c9a84",
   "metadata": {},
   "outputs": [
    {
     "name": "stdout",
     "output_type": "stream",
     "text": [
      "Training set accuracy: 0.955\n",
      "Test set accuracy: 0.944\n"
     ]
    }
   ],
   "source": [
    "from sklearn.svm import SVC\n",
    "svm = SVC()\n",
    "svm.fit(X_train,y_train)\n",
    "print(\"Training set accuracy: {:.3f}\".format(svm.score(X_train, y_train)))\n",
    "print(\"Test set accuracy: {:.3f}\".format(svm.score(X_test,y_test)))"
   ]
  },
  {
   "cell_type": "markdown",
   "id": "a612bdc0",
   "metadata": {},
   "source": [
    "Looks like the model is underfitting. Let's make it a bit more complex. Increase C (less regularization, less restricted model)."
   ]
  },
  {
   "cell_type": "code",
   "execution_count": 78,
   "id": "0b4f1379",
   "metadata": {},
   "outputs": [
    {
     "name": "stdout",
     "output_type": "stream",
     "text": [
      "Training set accuracy with less regularization: 0.980\n",
      "Test set accuracy with less regularization: 0.963\n"
     ]
    }
   ],
   "source": [
    "svm20 = SVC(C=20)\n",
    "svm20.fit(X_train,y_train)\n",
    "print(\"Training set accuracy with less regularization: {:.3f}\".format(svm20.score(X_train,y_train)))\n",
    "print(\"Test set accuracy with less regularization: {:.3f}\".format(svm20.score(X_test,y_test)))"
   ]
  },
  {
   "cell_type": "markdown",
   "id": "027e9059",
   "metadata": {},
   "source": [
    "To better understand how each model is performing, let's now calculate confusion matrix for each."
   ]
  },
  {
   "cell_type": "code",
   "execution_count": 75,
   "id": "481d55b0",
   "metadata": {},
   "outputs": [],
   "source": [
    "from sklearn.metrics import confusion_matrix\n",
    "def cnf_matrix(model,X_test,y_test):\n",
    "    \"\"\"Return the confusion matrix for a 'model'.\"\"\"\n",
    "    y_pred = model.predict(X_test)\n",
    "    return confusion_matrix(y_test,y_pred)"
   ]
  },
  {
   "cell_type": "code",
   "execution_count": 79,
   "id": "a54b6fd5",
   "metadata": {},
   "outputs": [
    {
     "name": "stdout",
     "output_type": "stream",
     "text": [
      "Logistic Regression \n",
      "\n",
      " [[1070  113]\n",
      " [ 102 1479]] \n",
      "\n",
      "\n",
      "\n",
      "Random Forest \n",
      "\n",
      " [[1121   62]\n",
      " [  29 1552]] \n",
      "\n",
      "\n",
      "\n",
      "SVM \n",
      "\n",
      " [[1117   66]\n",
      " [  36 1545]] \n",
      "\n",
      "\n",
      "\n"
     ]
    }
   ],
   "source": [
    "print(\"Logistic Regression\",\"\\n\\n\",cnf_matrix(logreg,X_test,y_test),\"\\n\\n\\n\")\n",
    "print(\"Random Forest\",\"\\n\\n\",cnf_matrix(forest15,X_test,y_test),\"\\n\\n\\n\")\n",
    "print(\"SVM\",\"\\n\\n\",cnf_matrix(svm10,X_test,y_test),\"\\n\\n\\n\")"
   ]
  },
  {
   "cell_type": "markdown",
   "id": "0f6b37a5",
   "metadata": {},
   "source": [
    "False negative is an observation that is incorrectly classified as negative (in our case, not phishing). This is the most crucial part of our confusion matrix. Because we do not want to flag a site legitimate that is actually phishing, marking a site phishing when it is not (false positive) might not have as dire consequences."
   ]
  },
  {
   "cell_type": "markdown",
   "id": "c50a43ed",
   "metadata": {},
   "source": [
    "Calculate f1_score for each model"
   ]
  },
  {
   "cell_type": "code",
   "execution_count": 77,
   "id": "e1fb468c",
   "metadata": {},
   "outputs": [],
   "source": [
    "from sklearn.metrics import f1_score\n",
    "def f1(model,X_test,y_test):\n",
    "    \"\"\"Return the confusion matrix for a 'model'.\"\"\"\n",
    "    y_pred = model.predict(X_test)\n",
    "    return f1_score(y_test,y_pred)"
   ]
  },
  {
   "cell_type": "code",
   "execution_count": 81,
   "id": "f4608371",
   "metadata": {},
   "outputs": [
    {
     "name": "stdout",
     "output_type": "stream",
     "text": [
      "f1 logistic regression: 0.932\n",
      "f1 random forest: 0.972\n",
      "f1 svm: 0.968\n"
     ]
    }
   ],
   "source": [
    "print(\"f1 logistic regression: {:.3f}\".format(f1(logreg,X_test,y_test)))\n",
    "print(\"f1 random forest: {:.3f}\".format(f1(forest15,X_test,y_test)))\n",
    "print(\"f1 svm: {:.3f}\".format(f1(svm20,X_test,y_test)))"
   ]
  },
  {
   "cell_type": "markdown",
   "id": "4ba0ec1c",
   "metadata": {},
   "source": [
    "Both in terms of false negatives and the f1 score, random forest outperforms logistic regression and svm."
   ]
  },
  {
   "cell_type": "code",
   "execution_count": null,
   "id": "26d893e1",
   "metadata": {},
   "outputs": [],
   "source": []
  }
 ],
 "metadata": {
  "kernelspec": {
   "display_name": "Python 3",
   "language": "python",
   "name": "python3"
  },
  "language_info": {
   "codemirror_mode": {
    "name": "ipython",
    "version": 3
   },
   "file_extension": ".py",
   "mimetype": "text/x-python",
   "name": "python",
   "nbconvert_exporter": "python",
   "pygments_lexer": "ipython3",
   "version": "3.8.8"
  }
 },
 "nbformat": 4,
 "nbformat_minor": 5
}
